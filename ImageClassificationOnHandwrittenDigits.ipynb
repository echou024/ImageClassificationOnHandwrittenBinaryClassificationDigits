{
  "cells": [
    {
      "cell_type": "markdown",
      "metadata": {
        "id": "view-in-github",
        "colab_type": "text"
      },
      "source": [
        "<a href=\"https://colab.research.google.com/github/echou024/ImageClassificationOnHandwrittenDigits/blob/main/ImageClassificationOnHandwrittenDigits.ipynb\" target=\"_parent\"><img src=\"https://colab.research.google.com/assets/colab-badge.svg\" alt=\"Open In Colab\"/></a>"
      ]
    },
    {
      "cell_type": "markdown",
      "metadata": {
        "id": "hsywQWEI8pzj"
      },
      "source": [
        "# Overview\n",
        "Performs image classification on a handwritten digits dataset using a two-layer neural network with loss functions, gradients, optimizers.\n",
        "\n",
        "\n",
        "We will use [MNIST](https://en.wikipedia.org/wiki/MNIST_database) handwritten digits dataset. The dataset consists 10 handwritten digits (0,1,...,9).\n",
        "The training data consists of 60000 images of size $28 \\times 28$ pixels; the test data consists of 10000 images.\n",
        "\n",
        "We will use the functionality of Pandas (https://pandas.pydata.org/), Matplotlib (https://matplotlib.org/), and Numpy (http://www.numpy.org/).\n",
        "\n"
      ]
    },
    {
      "cell_type": "code",
      "execution_count": 1,
      "metadata": {
        "id": "3d6urIY6Ci2D"
      },
      "outputs": [],
      "source": [
        "import numpy as np\n",
        "import matplotlib.pyplot as plt\n",
        "\n",
        "# make sure you import here everything else you may need"
      ]
    },
    {
      "cell_type": "code",
      "execution_count": 2,
      "metadata": {
        "colab": {
          "base_uri": "https://localhost:8080/",
          "height": 235
        },
        "id": "Jdo3YbSzAN5D",
        "outputId": "6b067ebd-596d-4de4-b224-849815bb41a5"
      },
      "outputs": [
        {
          "output_type": "stream",
          "name": "stdout",
          "text": [
            "Downloading data from https://storage.googleapis.com/tensorflow/tf-keras-datasets/mnist.npz\n",
            "11490434/11490434 [==============================] - 0s 0us/step\n",
            "Training data shape: (60000, 28, 28)\n",
            "Test data shape: (10000, 28, 28)\n"
          ]
        },
        {
          "output_type": "display_data",
          "data": {
            "text/plain": [
              "<Figure size 2000x200 with 10 Axes>"
            ],
            "image/png": "[encoded data removed]"
          },
          "metadata": {}
        }
      ],
      "source": [
        "from keras.datasets import mnist\n",
        "(x_train, y_train), (x_test, y_test) = mnist.load_data()\n",
        "\n",
        "print('Training data shape:',x_train.shape)\n",
        "print('Test data shape:',x_test.shape)\n",
        "\n",
        "n_img=10\n",
        "plt.figure(figsize=(n_img*2,2))\n",
        "plt.gray()\n",
        "for i in range(n_img):\n",
        "    plt.subplot(1,n_img,i+1)\n",
        "    plt.imshow(x_train[i])\n",
        "plt.show()"
      ]
    },
    {
      "cell_type": "markdown",
      "metadata": {
        "id": "Uw4N4norAN5D"
      },
      "source": [
        "We will be vectorizing the training and test images. So, the size of each vector will be 784."
      ]
    },
    {
      "cell_type": "code",
      "execution_count": 3,
      "metadata": {
        "colab": {
          "base_uri": "https://localhost:8080/"
        },
        "id": "VOIMLKYtAN5E",
        "outputId": "2c39f9e9-7004-4cc2-e75f-ee72831c4a90"
      },
      "outputs": [
        {
          "output_type": "stream",
          "name": "stdout",
          "text": [
            "Training data shape after reshaping: (60000, 784)\n",
            "Test data shape after reshaping:: (10000, 784)\n",
            "\n",
            "\n",
            "Training label shape:  (60000,)\n",
            "Test label shape:  (10000,)\n"
          ]
        }
      ],
      "source": [
        "x_train=x_train.reshape(x_train.shape[0],-1)\n",
        "x_test=x_test.reshape(x_test.shape[0],-1)\n",
        "\n",
        "print('Training data shape after reshaping:',x_train.shape)\n",
        "print('Test data shape after reshaping::',x_test.shape)\n",
        "print(\"\\n\")\n",
        "print('Training label shape: ', y_train.shape)\n",
        "print('Test label shape: ', y_test.shape)"
      ]
    },
    {
      "cell_type": "markdown",
      "metadata": {
        "id": "iHVQmrbIAN4-"
      },
      "source": [
        "## Binary classification using neural network:\n",
        "\n",
        "We will classify images of two different digits using a two-layer network with a cross entropy loss.\n"
      ]
    },
    {
      "cell_type": "code",
      "execution_count": 4,
      "metadata": {
        "id": "fir2-wZWAN5E",
        "outputId": "50843f9a-8a72-42ea-824d-dfef98c4afaa",
        "colab": {
          "base_uri": "https://localhost:8080/"
        }
      },
      "outputs": [
        {
          "output_type": "stream",
          "name": "stdout",
          "text": [
            "Training data shape: (784, 2000)\n",
            "Test data shape: (784, 1866)\n"
          ]
        }
      ],
      "source": [
        "def extract_binary_classification_dataset(x, y, label1, label2, num_samples):\n",
        "    \"\"\"Make a subset dataset from MNIST, containing only 2 classes for binary classification task\n",
        "    Args:\n",
        "        x (numpy.ndarray): data, can be x_train or x_test\n",
        "        y (numpy.ndarray): labels of data, can be y_train or y_test\n",
        "        label1 (int): the first class you pick, e.g. 5\n",
        "        label2 (int): the second class you pick, e.g. 8\n",
        "        num_samples (int): the number of images you select for each class, e.g. 1000\n",
        "    Returns:\n",
        "        x_ (numpy.ndarray): the data for 2 picked classes\n",
        "        y_ (numpy.ndarray): the corresponding labels for 2 picked classes\n",
        "    \"\"\"\n",
        "    # for class 1\n",
        "    x1 = x[y == label1]\n",
        "    x1 = x1[:num_samples]\n",
        "    y1 = np.zeros(len(x1))\n",
        "\n",
        "    # for class 2\n",
        "    x2 = x[y == label2]\n",
        "    x2 = x2[:num_samples]\n",
        "    y2 = np.ones(len(x2))\n",
        "\n",
        "    # combine 2 classes\n",
        "    x_ = np.concatenate((x1,x2),axis=0)\n",
        "    y_ = np.concatenate((y1,y2),axis=0)\n",
        "    return x_, y_\n",
        "\n",
        "\n",
        "# Pick your own digits\n",
        "label1 = 5\n",
        "label2 = 8\n",
        "num_samples = 1000\n",
        "\n",
        "# Train & test data\n",
        "train_x, train_y = extract_binary_classification_dataset(x_train, y_train, label1, label2, num_samples)\n",
        "test_x, test_y = extract_binary_classification_dataset(x_test, y_test, label1, label2, num_samples)\n",
        "\n",
        "# reshape data\n",
        "train_x = train_x.T\n",
        "test_x = test_x.T\n",
        "print(\"Training data shape:\", train_x.shape)\n",
        "print(\"Test data shape:\", test_x.shape)"
      ]
    },
    {
      "cell_type": "markdown",
      "metadata": {
        "id": "HdeO0YieAN5E"
      },
      "source": [
        "### Network Architecture:\n",
        "\n",
        "We will be using a two layer neural network in our experiment. The input layer will have 784 nodes, the hidden layer will have 256 nodes and the output layer will have 1 node. Each node will have $\\textit{sigmoid}$ activation function.\n",
        "\n",
        "The equations for feedforward operation will be the following:\n",
        "\n",
        "$$\\mathbf{z}^{(1)}=W^{(1)} \\mathbf{x}+ \\mathbf{b}^{(1)}\\\\\\mathbf{y}^{(1)}=\\varphi(\\mathbf{z}^{(1)})\\\\\\mathbf{z}^{(2)}=W^{(2)}  \\mathbf{y}^{(1)}+ \\mathbf{b}^{(2)} \\\\\\mathbf{y}^{(2)}=\\varphi(\\mathbf{z}^{(2)})$$\n",
        "\n",
        "where $\\mathbf{x}\\in \\mathbb{R}^{784}$ is the input layer, $\\mathbf{y}^{(1)}\\in \\mathbb{R}^{256}$ is the hidden layer, $\\mathbf{y}^{(2)} \\in \\mathbb{R}$ is the output layer, $W^{(1)}\\in \\mathbb{R}^{256\\times 784}$ is the first layer weights, $W^{(2)}\\in \\mathbb{R}^{1\\times 256}$ is the second layer weights, $\\mathbf{b}^{(1)}\\in \\mathbb{R}^{256}$ is the first layer bias, $\\mathbf{b}^{(2)}\\in \\mathbb{R}$ is the second layer bias, $\\varphi(\\cdot)$ is the activation function."
      ]
    },
    {
      "cell_type": "markdown",
      "metadata": {
        "id": "XWw3zn2_AN5F"
      },
      "source": [
        "### Network initialization:\n",
        "\n",
        "We initialize the weights for $W^{(1)}$ and $W^{(2)}$ with random values drawn from normal distribution with zero mean and 0.01 standard deviation. We will initialize bias vectors $\\mathbf{b}^{(1)}$ and $\\mathbf{b^{(2)}}$ with zero values.\n",
        "\n",
        "We can fix the seed for random initialization for reproducibility."
      ]
    },
    {
      "cell_type": "code",
      "execution_count": 5,
      "metadata": {
        "id": "5k52OUaoAN5F"
      },
      "outputs": [],
      "source": [
        "def TwoLayerNetwork(layer_dims=[784,256,1]):\n",
        "    # Fix the seed\n",
        "    np.random.seed(3)\n",
        "\n",
        "    # TODO\n",
        "    # Your code goes here\n",
        "    W1 = np.random.normal(0, 0.01, (layer_dims[1], layer_dims[0]))\n",
        "\n",
        "    b1 = np.zeros((layer_dims[1], 1))\n",
        "\n",
        "    W2 = np.random.normal(0, 0.01, (layer_dims[2], layer_dims[1]))\n",
        "\n",
        "    b2 = np.zeros((layer_dims[2], 1))\n",
        "\n",
        "    params = [W1, b1, W2, b2]\n",
        "\n",
        "\n",
        "    return params"
      ]
    },
    {
      "cell_type": "markdown",
      "metadata": {
        "id": "0xLDm_wkAN5F"
      },
      "source": [
        "### Sigmoid activation function:\n",
        "\n",
        "$$ \\varphi(z) = \\frac{1}{1+e^{-z}}$$\n"
      ]
    },
    {
      "cell_type": "code",
      "execution_count": 6,
      "metadata": {
        "id": "_CPxvM0UAN5F"
      },
      "outputs": [],
      "source": [
        "def sigmoid(Z):\n",
        "    # Input: Z -- numpy.ndarray\n",
        "    # TODO\n",
        "    # Write your function\n",
        "\n",
        "    Y = 1 / (1 + np.exp(-Z))\n",
        "\n",
        "    return Y"
      ]
    },
    {
      "cell_type": "markdown",
      "source": [
        "\n",
        "\n",
        "### Derivative of Sigmoid activation function:\n",
        "\n",
        "$\\varphi'(z) = \\varphi(z) (1-\\varphi(z))$\n",
        "\n"
      ],
      "metadata": {
        "id": "4X6WvTg-3BRE"
      }
    },
    {
      "cell_type": "code",
      "source": [
        "def derivative_sigmoid(Z):\n",
        "    # Input: Z -- numpy.ndarray\n",
        "    # TODO\n",
        "    # Write your function\n",
        "\n",
        "    grad = sigmoid(Z) * (1 - sigmoid(Z))\n",
        "\n",
        "    return grad"
      ],
      "metadata": {
        "id": "vg_jpJ9728Kh"
      },
      "execution_count": 7,
      "outputs": []
    },
    {
      "cell_type": "markdown",
      "metadata": {
        "id": "GGuGMhzeAN5G"
      },
      "source": [
        "### Cross entropy loss function:\n",
        "We will minimize the binary cross entropy loss function using the true labels and predicted labels of a batch of N samples.\n",
        "\n",
        "Binary crossentropy loss for $i^{th}$ sample can be written as\n",
        "\n",
        "$$Loss_i = -y_i \\log y^{(2)}_i- (1-y_i) \\log (1-y^{(2)}_i)$$\n",
        "\n",
        "where $y_i$ is the true label. We can find the average loss for a batch of N samples as $Loss=\\frac{1}{N}\\sum_{i=1}^{N} Loss_i$.\n",
        "\n",
        "Note that the gradient of the cross entropy loss w.r.t. the output is\n",
        "\n",
        "$$ \\nabla_{y^{(2)}} Loss_i = -\\frac{y_i}{y_i^{(2)}} + \\frac{1-y_i}{1-y_i^{(2)}} = \\frac{y_i^{(2)}-y_i}{y_i^{(2)}(1-y_i^{(2)})}.$$\n",
        "\n",
        "We can also show that $$\\delta^{(2)} = \\nabla_{\\mathbf{z}^{(2)}} Loss_i  = \\nabla_{y^{(2)}} Loss_i \\odot \\varphi'(\\mathbf{z})= y_i^{(2)}-y_i,$$\n",
        "where $\\odot$ denotes element-wise multiplication of the arrays."
      ]
    },
    {
      "cell_type": "code",
      "execution_count": 8,
      "metadata": {
        "id": "l7KkfTXeAN5G"
      },
      "outputs": [],
      "source": [
        "def CrossEntropyLoss(Y_true, Y2):\n",
        "    # TODO\n",
        "    # Write your code here\n",
        "    loss = np.mean(-(Y_true * np.log(Y2) + (1 - Y_true) * np.log(1 - Y2)))\n",
        "\n",
        "    return loss"
      ]
    },
    {
      "cell_type": "markdown",
      "metadata": {
        "id": "EnFFFVP1AN5F"
      },
      "source": [
        "### Forward propagation:\n",
        "Next, we code the forward pass for two layer network. Each layer consists of an affine function (fully-connected layer) followed by an activation function. We also return the intermediate results ($\\mathbf{x}, \\mathbf{z}^{(1)}, \\mathbf{y}^{(1)}, \\mathbf{z}^{(2)}$) in addition to final output ($\\mathbf{y}^{(2)}$). They are needed for the intermediate outputs for the backpropagation step."
      ]
    },
    {
      "cell_type": "code",
      "execution_count": 9,
      "metadata": {
        "id": "oBHoC1_TAN5F"
      },
      "outputs": [],
      "source": [
        "def forward(X, params):\n",
        "    # TODO\n",
        "    # Write your codes here\n",
        "    # X -- 784 x N array\n",
        "    # params --\n",
        "      # W1 -- 256 x 784 matrix\n",
        "      # b1 -- 256 x 1 vector\n",
        "      # W2 -- 1 x 256 matrix\n",
        "      # b2 -- 1 x 1 scalar\n",
        "    # Y2 -- 1 x N output\n",
        "    # intermediate -- X, Z1, Y1, Z2\n",
        "      # Z1 -- 256 x N matrix\n",
        "      # Y1 -- 256 x N matrix\n",
        "      # Z2 -- 1 x N array\n",
        "      W1, b1, W2, b2 = params\n",
        "\n",
        "      Z1 = np.dot(W1, X) + b1\n",
        "      Y1 = sigmoid(Z1)\n",
        "      Z2 = np.dot(W2, Y1) + b2\n",
        "      Y2 = sigmoid(Z2)\n",
        "\n",
        "      intermediate = [X, Z1, Y1, Z2]\n",
        "\n",
        "      return Y2, intermediate"
      ]
    },
    {
      "cell_type": "markdown",
      "metadata": {
        "id": "I4ZM2NLAAN5G"
      },
      "source": [
        "### Back propagation step:\n",
        "\n",
        "We need the gradient of the Loss w.r.t. $W^{(l)},\\mathbf{b}^{(l)}$ for $l = 1,2$ for all the training samples.  \n",
        "\n",
        "\n",
        "\n",
        "We saw that we can write the gradient of Loss with respect to $W^{(l)}, \\mathbf{b}^{(l)}$ for a single sample as\n",
        "\n",
        "$$\\nabla_{W^{(l)}} Loss_i = \\delta^{(l)} \\mathbf{y}^{(l-1)T},$$  \n",
        "$$\\nabla_{\\mathbf{b}^{(l)}} Loss_i = \\delta^{(l)},$$\n",
        "\n",
        "where\n",
        "$$\\delta^{(l)} = \\nabla_{\\mathbf{z}^{(l)}} Loss_i = \\nabla_{\\mathbf{y}^{(l)}} Loss_i \\odot \\varphi'(\\mathbf{z}^{(l)}).$$\n",
        "\n",
        "\n",
        "For the the last layer, we can compute $\\delta^{(L)}$ by plugging the value of $\\nabla_{\\mathbf{y}^{(L)}} Loss$ as described above.\n",
        "\n",
        "For the intermediate layers $l<L$, we can write\n",
        "$$\\delta^{(l)} = W^{(l+1)T}\\delta^{(l+1)} \\odot \\varphi'(\\mathbf{z}^{(l)}).$$\n",
        "\n",
        "\n",
        "\n",
        "**Once we have the gradients $\\nabla_{W^{(l)}} Loss_i, \\nabla_{\\mathbf{b}^{(l)}} Loss_i$ for all $i$. We can compute their average to compute the gradient of the total loss function $\\frac{1}{N} \\sum_{i=1}^N Loss_i$ as**\n",
        "\n",
        "$$\\nabla_{W^{(l)}} Loss = \\frac{1}{N} \\sum_i \\nabla_{W^{(l)}} Loss_i, $$\n",
        "$$ \\nabla_{\\mathbf{b}^{(l)}} Loss = \\frac{1}{N} \\sum_i  \\nabla_{\\mathbf{b}^{(l)}} Loss_i.$$"
      ]
    },
    {
      "cell_type": "code",
      "execution_count": 10,
      "metadata": {
        "id": "ODa4OXAqAN5G"
      },
      "outputs": [],
      "source": [
        "def backward(Y_true, Y2, intermediate, params):\n",
        "\n",
        "    # Inputs:\n",
        "      # Y_true -- 1 x N true labels\n",
        "      # Y2 -- 1 x N output of the last layer\n",
        "      # intermediate -- X, Z1, Y1, Z2\n",
        "      # params -- W1, b1, W2, b2\n",
        "\n",
        "    # Outputs:\n",
        "      # grads -- [grad_W1, grad_b1, grad_W2, grad_b2]\n",
        "\n",
        "    # TODO\n",
        "    # Write your codes here\n",
        "    # Check dimensions of inputs\n",
        "\n",
        "    # Y_true = Y_true.reshape(1, -1)\n",
        "    # Y2 = Y2.reshape(1, -1)\n",
        "\n",
        "    X, Z1, Y1, Z2 = intermediate\n",
        "    W1, b1, W2, b2 = params\n",
        "\n",
        "    delta2 = Y2 - Y_true\n",
        "\n",
        "    gradW2 = np.dot(delta2, Y1.T) / 2000\n",
        "    gradb2 = np.mean(delta2)\n",
        "\n",
        "    delta1 = np.dot(W2.T, delta2) * derivative_sigmoid(Z1)\n",
        "\n",
        "    gradW1 = np.dot(delta1, X.T) / 2000\n",
        "    gradb1 = np.mean(delta1)\n",
        "\n",
        "\n",
        "    grads = [gradW1, gradb1, gradW2, gradb2]\n",
        "\n",
        "    return grads, intermediate"
      ]
    },
    {
      "cell_type": "markdown",
      "metadata": {
        "id": "GlHu8oIaAN5G"
      },
      "source": [
        "### Optimizer:\n",
        "We use a standard gradient descent-based optimizer to minimize the loss function.\n",
        "\n",
        "Update $W^1, \\mathbf{b}^1, W^2, \\mathbf{b}^2$ as\n",
        "$$ W^1 \\gets W^1 - \\alpha \\nabla_{W^1} Loss $$\n",
        "$$ \\mathbf{b}^1 \\gets \\mathbf{b}^1 - \\alpha \\nabla_{\\mathbf{b}^1} Loss $$\n",
        "$$ W^2 \\gets W^2 - \\alpha \\nabla_{W^2} Loss $$\n",
        "$$ \\mathbf{b}^2 \\gets \\mathbf{b}^2 - \\alpha \\nabla_{\\mathbf{b}^2} Loss $$\n",
        "$\\alpha$ is the learning rate."
      ]
    },
    {
      "cell_type": "code",
      "execution_count": 11,
      "metadata": {
        "id": "noqJ8U_PAN5G"
      },
      "outputs": [],
      "source": [
        "def GD(params, grads, learning_rate):\n",
        "\n",
        "    # updated params = old params - learning rate * gradient of Loss computed at old params\n",
        "    # TODO\n",
        "    # Write your codes here\n",
        "\n",
        "    W1, b1, W2, b2 = params\n",
        "\n",
        "    gradW1, gradb1, gradW2, gradb2 = grads\n",
        "\n",
        "    updatedW1 = W1 - (learning_rate * gradW1)\n",
        "\n",
        "    updatedb1 = b1 - (learning_rate * gradb1)\n",
        "\n",
        "    updatedW2 = W2 - (learning_rate * gradW2)\n",
        "\n",
        "    updatedb2 = b2 - (learning_rate * gradb2)\n",
        "\n",
        "    updated_params = [updatedW1, updatedb1, updatedW2, updatedb2]\n",
        "\n",
        "    return updated_params"
      ]
    },
    {
      "cell_type": "markdown",
      "metadata": {
        "id": "adhSifEGAN5G"
      },
      "source": [
        "### Train the Model:\n"
      ]
    },
    {
      "cell_type": "code",
      "execution_count": 12,
      "metadata": {
        "id": "lKwAatEkAN5H"
      },
      "outputs": [],
      "source": [
        "layer_dims = [train_x.shape[0],256,1]\n",
        "epochs = 1000\n",
        "lr = 0.00001\n",
        "\n",
        "params = TwoLayerNetwork(layer_dims)"
      ]
    },
    {
      "cell_type": "code",
      "execution_count": 13,
      "metadata": {
        "id": "QtEPxEleAN5H",
        "colab": {
          "base_uri": "https://localhost:8080/"
        },
        "outputId": "602a432f-b705-4ce2-c74b-6e1c1f418c9e"
      },
      "outputs": [
        {
          "output_type": "stream",
          "name": "stdout",
          "text": [
            "Epoch 0/1000, Loss: 0.6913401911077485\n",
            "Epoch 20/1000, Loss: 0.6911374419854458\n",
            "Epoch 40/1000, Loss: 0.6909350387860089\n",
            "Epoch 60/1000, Loss: 0.690732981508076\n",
            "Epoch 80/1000, Loss: 0.6905312701694367\n",
            "Epoch 100/1000, Loss: 0.6903299047905626\n",
            "Epoch 120/1000, Loss: 0.690128885378682\n",
            "Epoch 140/1000, Loss: 0.6899282119130171\n",
            "Epoch 160/1000, Loss: 0.6897278843317799\n",
            "Epoch 180/1000, Loss: 0.689527902521461\n",
            "Epoch 200/1000, Loss: 0.689328266308811\n",
            "Epoch 220/1000, Loss: 0.689128975455742\n",
            "Epoch 240/1000, Loss: 0.688930029657168\n",
            "Epoch 260/1000, Loss: 0.6887314285415909\n",
            "Epoch 280/1000, Loss: 0.6885331716740316\n",
            "Epoch 300/1000, Loss: 0.6883352585607402\n",
            "Epoch 320/1000, Loss: 0.6881376886550008\n",
            "Epoch 340/1000, Loss: 0.6879404613632971\n",
            "Epoch 360/1000, Loss: 0.6877435760511185\n",
            "Epoch 380/1000, Loss: 0.6875470320477755\n",
            "Epoch 400/1000, Loss: 0.6873508286497254\n",
            "Epoch 420/1000, Loss: 0.6871549651220944\n",
            "Epoch 440/1000, Loss: 0.6869594406982796\n",
            "Epoch 460/1000, Loss: 0.686764254577721\n",
            "Epoch 480/1000, Loss: 0.6865694059221146\n",
            "Epoch 500/1000, Loss: 0.6863748938505008\n",
            "Epoch 520/1000, Loss: 0.6861807174337653\n",
            "Epoch 540/1000, Loss: 0.6859868756891628\n",
            "Epoch 560/1000, Loss: 0.6857933675754901\n",
            "Epoch 580/1000, Loss: 0.6856001919895025\n",
            "Epoch 600/1000, Loss: 0.6854073477641162\n",
            "Epoch 620/1000, Loss: 0.6852148336688387\n",
            "Epoch 640/1000, Loss: 0.685022648412769\n",
            "Epoch 660/1000, Loss: 0.6848307906503825\n",
            "Epoch 680/1000, Loss: 0.6846392589902052\n",
            "Epoch 700/1000, Loss: 0.6844480520063583\n",
            "Epoch 720/1000, Loss: 0.6842571682528488\n",
            "Epoch 740/1000, Loss: 0.6840666062803793\n",
            "Epoch 760/1000, Loss: 0.6838763646553584\n",
            "Epoch 780/1000, Loss: 0.6836864419807134\n",
            "Epoch 800/1000, Loss: 0.6834968369180281\n",
            "Epoch 820/1000, Loss: 0.6833075482104631\n",
            "Epoch 840/1000, Loss: 0.6831185747058485\n",
            "Epoch 860/1000, Loss: 0.6829299153792888\n",
            "Epoch 880/1000, Loss: 0.6827415693545713\n",
            "Epoch 900/1000, Loss: 0.6825535359236331\n",
            "Epoch 920/1000, Loss: 0.6823658145633342\n",
            "Epoch 940/1000, Loss: 0.6821784049487853\n",
            "Epoch 960/1000, Loss: 0.6819913069625263\n",
            "Epoch 980/1000, Loss: 0.681804520698923\n"
          ]
        }
      ],
      "source": [
        "# TODO\n",
        "# Write your codes here\n",
        "\n",
        "loss_history = []\n",
        "\n",
        "for i in range(epochs):\n",
        "  #1. Calculate the forward pass to get estimated labels.\n",
        "  estimatedY, returnedIntermediate = forward(train_x, params)\n",
        "\n",
        "  #2. Use the estimated labels calculate loss. We will be recording loss for every epoch.\n",
        "  estimatedLoss = CrossEntropyLoss(train_y, estimatedY)\n",
        "  loss_history.append(estimatedLoss)\n",
        "\n",
        "  #3. Use backpropagation to calculate gradients.\n",
        "  newGrads, returnedIntermediate2 = backward(train_y, estimatedY, returnedIntermediate, params)\n",
        "\n",
        "  #4. Use gradient descent to update the weights and biases.\n",
        "  params = GD(params, newGrads, lr)\n",
        "\n",
        "  #Print the loss value after every few epochs (say 20)\n",
        "  if i % 20 == 0:\n",
        "    print(f'Epoch {i}/{epochs}, Loss: {estimatedLoss}')\n",
        "\n",
        "\n",
        "\n"
      ]
    },
    {
      "cell_type": "markdown",
      "metadata": {
        "id": "2-7VVZ6iAN5H"
      },
      "source": [
        "Now we will plot the recorded loss values vs epochs. We will observe the training loss decreasing with the epochs."
      ]
    },
    {
      "cell_type": "code",
      "execution_count": 14,
      "metadata": {
        "id": "Uu8zTsABAN5H",
        "colab": {
          "base_uri": "https://localhost:8080/",
          "height": 449
        },
        "outputId": "4148f5f0-c1c7-45fc-de9c-91f3ef49c14c"
      },
      "outputs": [
        {
          "output_type": "display_data",
          "data": {
            "text/plain": [
              "<Figure size 640x480 with 1 Axes>"
            ],
            "image/png": "[encoded data removed]"
          },
          "metadata": {}
        }
      ],
      "source": [
        "plt.figure()\n",
        "plt.plot(loss_history)\n",
        "plt.xlabel(\"Epochs\")\n",
        "plt.ylabel(\"Training Loss\")\n",
        "plt.show()"
      ]
    },
    {
      "cell_type": "markdown",
      "metadata": {
        "id": "8ZlLv1NbAN5H"
      },
      "source": [
        "### Evaluation on test data:\n",
        "\n",
        "Now we will be evaluating the accuracy we get from the trained model. We feed training data and test data to the forward model along with the trained parameters."
      ]
    },
    {
      "cell_type": "code",
      "execution_count": 15,
      "metadata": {
        "id": "HKZ7BSZjAN5I",
        "colab": {
          "base_uri": "https://localhost:8080/"
        },
        "outputId": "ce1b47e1-c198-4801-bc79-196b9bba1d8a"
      },
      "outputs": [
        {
          "output_type": "stream",
          "name": "stdout",
          "text": [
            "Training accuracy: 0.5035\n",
            "Test accuracy: 0.5251875669882101\n"
          ]
        }
      ],
      "source": [
        "# TODO\n",
        "\n",
        "trainProb, inter1 = forward(train_x, params)\n",
        "testProb, inter2 = forward(test_x, params)\n",
        "\n",
        "binaryClassTr = []\n",
        "for probTr in trainProb.flatten():\n",
        "    if probTr >= 0.5:\n",
        "        binaryClassTr.append(1)\n",
        "    else:\n",
        "        binaryClassTr.append(0)\n",
        "\n",
        "binaryClassTs = []\n",
        "for probTs in testProb.flatten():\n",
        "    if probTs >= 0.5:\n",
        "        binaryClassTs.append(1)\n",
        "    else:\n",
        "        binaryClassTs.append(0)\n",
        "\n",
        "binaryClassTr = np.array(binaryClassTr)\n",
        "binaryClassTs = np.array(binaryClassTs)\n",
        "\n",
        "# Calculate accuracy\n",
        "accTr = (binaryClassTr == train_y).mean()\n",
        "accTs = (binaryClassTs == test_y).mean()\n",
        "\n",
        "print(\"Training accuracy:\", accTr)\n",
        "print(\"Test accuracy:\", accTs)\n"
      ]
    }
  ],
  "metadata": {
    "colab": {
      "provenance": [],
      "include_colab_link": true
    },
    "kernelspec": {
      "display_name": "Python 3 (ipykernel)",
      "language": "python",
      "name": "python3"
    },
    "language_info": {
      "codemirror_mode": {
        "name": "ipython",
        "version": 3
      },
      "file_extension": ".py",
      "mimetype": "text/x-python",
      "name": "python",
      "nbconvert_exporter": "python",
      "pygments_lexer": "ipython3",
      "version": "3.9.13"
    }
  },
  "nbformat": 4,
  "nbformat_minor": 0
}